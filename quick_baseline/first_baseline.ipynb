{
 "cells": [
  {
   "cell_type": "markdown",
   "id": "9635e2c8",
   "metadata": {},
   "source": [
    "# Competition baseline"
   ]
  },
  {
   "cell_type": "markdown",
   "id": "72853f1a",
   "metadata": {},
   "source": [
    "## 数据处理"
   ]
  },
  {
   "cell_type": "code",
   "execution_count": 3,
   "id": "05afef21",
   "metadata": {},
   "outputs": [],
   "source": [
    "import numpy as np\n",
    "import pandas as pd"
   ]
  },
  {
   "cell_type": "code",
   "execution_count": 4,
   "id": "8d6896a3",
   "metadata": {},
   "outputs": [
    {
     "name": "stdout",
     "output_type": "stream",
     "text": [
      "../quick_baseline/first_baseline.ipynb\n",
      "../quick_baseline/sample_submission.csv\n",
      "../quick_baseline/test_data.csv\n",
      "../quick_baseline/train_data.csv\n"
     ]
    }
   ],
   "source": [
    "import os\n",
    "# 读取路径下所有文件\n",
    "for dirname, _, filenames in os.walk('../quick_baseline/'):\n",
    "    for filename in filenames:\n",
    "        print(os.path.join(dirname, filename))"
   ]
  },
  {
   "cell_type": "code",
   "execution_count": 1,
   "id": "8430eba9",
   "metadata": {},
   "outputs": [],
   "source": [
    "# import packages\n",
    "from tqdm import tqdm\n",
    "from matplotlib import pyplot as plt\n",
    "import seaborn as sns\n",
    "import lightgbm as lgb\n",
    "import multiprocessing\n",
    "\n",
    "from sklearn.preprocessing import LabelEncoder, MinMaxScaler, StandardScaler\n",
    "from sklearn.model_selection import KFold, ShuffleSplit, StratifiedKFold\n",
    "from sklearn.metrics import roc_auc_score, log_loss"
   ]
  },
  {
   "cell_type": "code",
   "execution_count": 5,
   "id": "b9a3dbe9",
   "metadata": {},
   "outputs": [],
   "source": [
    "train_df = pd.read_csv('../quick_baseline/train_data.csv')\n",
    "test_df = pd.read_csv('../quick_baseline/test_data.csv')"
   ]
  },
  {
   "cell_type": "code",
   "execution_count": 6,
   "id": "33c00bab",
   "metadata": {},
   "outputs": [],
   "source": [
    "# change type\n",
    "train_df['label'] = train_df['label'].astype('int32')"
   ]
  },
  {
   "cell_type": "code",
   "execution_count": 7,
   "id": "f3a7d47e",
   "metadata": {},
   "outputs": [],
   "source": [
    "# 合并训练集测试集，方便编码等处理\n",
    "df = pd.concat([train_df, test_df], axis=0).reset_index(drop=True)"
   ]
  },
  {
   "cell_type": "code",
   "execution_count": 8,
   "id": "2fc19bd1",
   "metadata": {},
   "outputs": [
    {
     "data": {
      "text/html": [
       "<div>\n",
       "<style scoped>\n",
       "    .dataframe tbody tr th:only-of-type {\n",
       "        vertical-align: middle;\n",
       "    }\n",
       "\n",
       "    .dataframe tbody tr th {\n",
       "        vertical-align: top;\n",
       "    }\n",
       "\n",
       "    .dataframe thead th {\n",
       "        text-align: right;\n",
       "    }\n",
       "</style>\n",
       "<table border=\"1\" class=\"dataframe\">\n",
       "  <thead>\n",
       "    <tr style=\"text-align: right;\">\n",
       "      <th></th>\n",
       "      <th>label</th>\n",
       "      <th>user_id</th>\n",
       "      <th>item_id</th>\n",
       "      <th>item_fea1</th>\n",
       "      <th>user_fea1</th>\n",
       "      <th>user_fea2</th>\n",
       "      <th>user_fea3</th>\n",
       "      <th>user_fea4</th>\n",
       "      <th>lng</th>\n",
       "      <th>lat</th>\n",
       "      <th>user_fea5</th>\n",
       "      <th>ts</th>\n",
       "      <th>user_fea6</th>\n",
       "      <th>user_fea7</th>\n",
       "      <th>user_fea8</th>\n",
       "      <th>user_fea9</th>\n",
       "      <th>user_tag</th>\n",
       "      <th>ID</th>\n",
       "    </tr>\n",
       "  </thead>\n",
       "  <tbody>\n",
       "    <tr>\n",
       "      <th>0</th>\n",
       "      <td>0.0</td>\n",
       "      <td>WgwGia5U3IS4BXkm</td>\n",
       "      <td>WORhuXJqpf4brDGS</td>\n",
       "      <td>2</td>\n",
       "      <td>KmsYcoDyQi7zprXT</td>\n",
       "      <td>yrLNj2BzDhEQTws5</td>\n",
       "      <td>3Xvgq4YJCV2DHb0o</td>\n",
       "      <td>wLQbAfi9agGtNj8M</td>\n",
       "      <td>108.664005</td>\n",
       "      <td>22.244352</td>\n",
       "      <td>W8b1IqPHxX9aGQYF</td>\n",
       "      <td>1573193245778</td>\n",
       "      <td>0.0</td>\n",
       "      <td>10.0</td>\n",
       "      <td>28.0</td>\n",
       "      <td>0.0</td>\n",
       "      <td>['1', '2', '3', '4', '5', '6', '7', '8', '9', ...</td>\n",
       "      <td>0</td>\n",
       "    </tr>\n",
       "    <tr>\n",
       "      <th>1</th>\n",
       "      <td>0.0</td>\n",
       "      <td>WgwGia5U3IS4BXkm</td>\n",
       "      <td>WORhuXJqpf4brDGS</td>\n",
       "      <td>2</td>\n",
       "      <td>KmsYcoDyQi7zprXT</td>\n",
       "      <td>yrLNj2BzDhEQTws5</td>\n",
       "      <td>3Xvgq4YJCV2DHb0o</td>\n",
       "      <td>wLQbAfi9agGtNj8M</td>\n",
       "      <td>108.664005</td>\n",
       "      <td>22.244352</td>\n",
       "      <td>W8b1IqPHxX9aGQYF</td>\n",
       "      <td>1573193245778</td>\n",
       "      <td>0.0</td>\n",
       "      <td>10.0</td>\n",
       "      <td>28.0</td>\n",
       "      <td>0.0</td>\n",
       "      <td>['62', '63', '64', '65', '3', '66', '8', '9', ...</td>\n",
       "      <td>1</td>\n",
       "    </tr>\n",
       "    <tr>\n",
       "      <th>2</th>\n",
       "      <td>0.0</td>\n",
       "      <td>WgwGia5U3IS4BXkm</td>\n",
       "      <td>zJnsmI6OET3jSUuB</td>\n",
       "      <td>0</td>\n",
       "      <td>KmsYcoDyQi7zprXT</td>\n",
       "      <td>yrLNj2BzDhEQTws5</td>\n",
       "      <td>OoFYqTPyxKfASCwR</td>\n",
       "      <td>wLQbAfi9agGtNj8M</td>\n",
       "      <td>108.665033</td>\n",
       "      <td>22.246721</td>\n",
       "      <td>W8b1IqPHxX9aGQYF</td>\n",
       "      <td>1573300837960</td>\n",
       "      <td>0.0</td>\n",
       "      <td>10.0</td>\n",
       "      <td>28.0</td>\n",
       "      <td>0.0</td>\n",
       "      <td>['1', '2', '3', '4', '5', '6', '7', '8', '9', ...</td>\n",
       "      <td>2</td>\n",
       "    </tr>\n",
       "    <tr>\n",
       "      <th>3</th>\n",
       "      <td>0.0</td>\n",
       "      <td>WgwGia5U3IS4BXkm</td>\n",
       "      <td>zJnsmI6OET3jSUuB</td>\n",
       "      <td>0</td>\n",
       "      <td>KmsYcoDyQi7zprXT</td>\n",
       "      <td>yrLNj2BzDhEQTws5</td>\n",
       "      <td>OoFYqTPyxKfASCwR</td>\n",
       "      <td>wLQbAfi9agGtNj8M</td>\n",
       "      <td>108.665033</td>\n",
       "      <td>22.246721</td>\n",
       "      <td>W8b1IqPHxX9aGQYF</td>\n",
       "      <td>1573300837960</td>\n",
       "      <td>0.0</td>\n",
       "      <td>10.0</td>\n",
       "      <td>28.0</td>\n",
       "      <td>0.0</td>\n",
       "      <td>['62', '63', '64', '65', '3', '66', '8', '9', ...</td>\n",
       "      <td>3</td>\n",
       "    </tr>\n",
       "    <tr>\n",
       "      <th>4</th>\n",
       "      <td>0.0</td>\n",
       "      <td>WgwGia5U3IS4BXkm</td>\n",
       "      <td>zJnsmI6OET3jSUuB</td>\n",
       "      <td>0</td>\n",
       "      <td>KmsYcoDyQi7zprXT</td>\n",
       "      <td>yrLNj2BzDhEQTws5</td>\n",
       "      <td>OoFYqTPyxKfASCwR</td>\n",
       "      <td>wLQbAfi9agGtNj8M</td>\n",
       "      <td>108.665033</td>\n",
       "      <td>22.246721</td>\n",
       "      <td>W8b1IqPHxX9aGQYF</td>\n",
       "      <td>1573311745524</td>\n",
       "      <td>0.0</td>\n",
       "      <td>10.0</td>\n",
       "      <td>28.0</td>\n",
       "      <td>0.0</td>\n",
       "      <td>['1', '2', '3', '4', '5', '6', '7', '8', '9', ...</td>\n",
       "      <td>4</td>\n",
       "    </tr>\n",
       "  </tbody>\n",
       "</table>\n",
       "</div>"
      ],
      "text/plain": [
       "   label           user_id           item_id  item_fea1         user_fea1  \\\n",
       "0    0.0  WgwGia5U3IS4BXkm  WORhuXJqpf4brDGS          2  KmsYcoDyQi7zprXT   \n",
       "1    0.0  WgwGia5U3IS4BXkm  WORhuXJqpf4brDGS          2  KmsYcoDyQi7zprXT   \n",
       "2    0.0  WgwGia5U3IS4BXkm  zJnsmI6OET3jSUuB          0  KmsYcoDyQi7zprXT   \n",
       "3    0.0  WgwGia5U3IS4BXkm  zJnsmI6OET3jSUuB          0  KmsYcoDyQi7zprXT   \n",
       "4    0.0  WgwGia5U3IS4BXkm  zJnsmI6OET3jSUuB          0  KmsYcoDyQi7zprXT   \n",
       "\n",
       "          user_fea2         user_fea3         user_fea4         lng  \\\n",
       "0  yrLNj2BzDhEQTws5  3Xvgq4YJCV2DHb0o  wLQbAfi9agGtNj8M  108.664005   \n",
       "1  yrLNj2BzDhEQTws5  3Xvgq4YJCV2DHb0o  wLQbAfi9agGtNj8M  108.664005   \n",
       "2  yrLNj2BzDhEQTws5  OoFYqTPyxKfASCwR  wLQbAfi9agGtNj8M  108.665033   \n",
       "3  yrLNj2BzDhEQTws5  OoFYqTPyxKfASCwR  wLQbAfi9agGtNj8M  108.665033   \n",
       "4  yrLNj2BzDhEQTws5  OoFYqTPyxKfASCwR  wLQbAfi9agGtNj8M  108.665033   \n",
       "\n",
       "         lat         user_fea5             ts  user_fea6  user_fea7  \\\n",
       "0  22.244352  W8b1IqPHxX9aGQYF  1573193245778        0.0       10.0   \n",
       "1  22.244352  W8b1IqPHxX9aGQYF  1573193245778        0.0       10.0   \n",
       "2  22.246721  W8b1IqPHxX9aGQYF  1573300837960        0.0       10.0   \n",
       "3  22.246721  W8b1IqPHxX9aGQYF  1573300837960        0.0       10.0   \n",
       "4  22.246721  W8b1IqPHxX9aGQYF  1573311745524        0.0       10.0   \n",
       "\n",
       "   user_fea8  user_fea9                                           user_tag  ID  \n",
       "0       28.0        0.0  ['1', '2', '3', '4', '5', '6', '7', '8', '9', ...   0  \n",
       "1       28.0        0.0  ['62', '63', '64', '65', '3', '66', '8', '9', ...   1  \n",
       "2       28.0        0.0  ['1', '2', '3', '4', '5', '6', '7', '8', '9', ...   2  \n",
       "3       28.0        0.0  ['62', '63', '64', '65', '3', '66', '8', '9', ...   3  \n",
       "4       28.0        0.0  ['1', '2', '3', '4', '5', '6', '7', '8', '9', ...   4  "
      ]
     },
     "execution_count": 8,
     "metadata": {},
     "output_type": "execute_result"
    }
   ],
   "source": [
    "df.head(5) # first 5 lines"
   ]
  },
  {
   "cell_type": "code",
   "execution_count": 9,
   "id": "42ed1ea1",
   "metadata": {},
   "outputs": [
    {
     "name": "stdout",
     "output_type": "stream",
     "text": [
      "<class 'pandas.core.frame.DataFrame'>\n",
      "RangeIndex: 5811458 entries, 0 to 5811457\n",
      "Data columns (total 18 columns):\n",
      " #   Column     Dtype  \n",
      "---  ------     -----  \n",
      " 0   label      float64\n",
      " 1   user_id    object \n",
      " 2   item_id    object \n",
      " 3   item_fea1  int64  \n",
      " 4   user_fea1  object \n",
      " 5   user_fea2  object \n",
      " 6   user_fea3  object \n",
      " 7   user_fea4  object \n",
      " 8   lng        float64\n",
      " 9   lat        float64\n",
      " 10  user_fea5  object \n",
      " 11  ts         int64  \n",
      " 12  user_fea6  float64\n",
      " 13  user_fea7  float64\n",
      " 14  user_fea8  float64\n",
      " 15  user_fea9  float64\n",
      " 16  user_tag   object \n",
      " 17  ID         int64  \n",
      "dtypes: float64(7), int64(3), object(8)\n",
      "memory usage: 798.1+ MB\n"
     ]
    }
   ],
   "source": [
    "df.info(verbose=True)"
   ]
  },
  {
   "cell_type": "code",
   "execution_count": 10,
   "id": "1c25b34b",
   "metadata": {},
   "outputs": [
    {
     "data": {
      "text/plain": [
       "(['user_fea6', 'user_fea7', 'user_fea8'],\n",
       " ['user_id',\n",
       "  'item_id',\n",
       "  'user_fea1',\n",
       "  'user_fea2',\n",
       "  'user_fea3',\n",
       "  'user_fea4',\n",
       "  'user_fea5',\n",
       "  'item_fea1',\n",
       "  'user_fea9'])"
      ]
     },
     "execution_count": 10,
     "metadata": {},
     "output_type": "execute_result"
    }
   ],
   "source": [
    "num_cols  =  [f'user_fea{i}' for i in range(6,9)] \n",
    "cate_cols = ['user_id','item_id']+ [f'user_fea{i}' for i in range(1,6)] + ['item_fea1']+['user_fea9']\n",
    "num_cols, cate_cols"
   ]
  },
  {
   "cell_type": "code",
   "execution_count": 11,
   "id": "fadb0436",
   "metadata": {},
   "outputs": [
    {
     "data": {
      "text/plain": [
       "(['user_fea6', 'user_fea7', 'user_fea8'],\n",
       " ['user_id',\n",
       "  'item_id',\n",
       "  'user_fea1',\n",
       "  'user_fea2',\n",
       "  'user_fea3',\n",
       "  'user_fea4',\n",
       "  'user_fea5',\n",
       "  'item_fea1',\n",
       "  'user_fea9'])"
      ]
     },
     "execution_count": 11,
     "metadata": {},
     "output_type": "execute_result"
    }
   ],
   "source": [
    "num_cols, cate_cols"
   ]
  },
  {
   "cell_type": "code",
   "execution_count": 12,
   "id": "e44f222b",
   "metadata": {},
   "outputs": [
    {
     "name": "stderr",
     "output_type": "stream",
     "text": [
      "C:\\Users\\Administrator\\AppData\\Local\\Temp\\ipykernel_17452\\2269448524.py:4: UserWarning: \n",
      "\n",
      "`distplot` is a deprecated function and will be removed in seaborn v0.14.0.\n",
      "\n",
      "Please adapt your code to use either `displot` (a figure-level function with\n",
      "similar flexibility) or `histplot` (an axes-level function for histograms).\n",
      "\n",
      "For a guide to updating your code to use the new functions, please see\n",
      "https://gist.github.com/mwaskom/de44147ed2974457ad6372750bbe5751\n",
      "\n",
      "  sns.distplot(df[col])\n",
      "c:\\Users\\Administrator\\AppData\\Local\\Programs\\Python\\Python311\\Lib\\site-packages\\seaborn\\_oldcore.py:1498: FutureWarning: is_categorical_dtype is deprecated and will be removed in a future version. Use isinstance(dtype, CategoricalDtype) instead\n",
      "  if pd.api.types.is_categorical_dtype(vector):\n",
      "c:\\Users\\Administrator\\AppData\\Local\\Programs\\Python\\Python311\\Lib\\site-packages\\seaborn\\_oldcore.py:1119: FutureWarning: use_inf_as_na option is deprecated and will be removed in a future version. Convert inf values to NaN before operating instead.\n",
      "  with pd.option_context('mode.use_inf_as_na', True):\n",
      "C:\\Users\\Administrator\\AppData\\Local\\Temp\\ipykernel_17452\\2269448524.py:4: UserWarning: \n",
      "\n",
      "`distplot` is a deprecated function and will be removed in seaborn v0.14.0.\n",
      "\n",
      "Please adapt your code to use either `displot` (a figure-level function with\n",
      "similar flexibility) or `histplot` (an axes-level function for histograms).\n",
      "\n",
      "For a guide to updating your code to use the new functions, please see\n",
      "https://gist.github.com/mwaskom/de44147ed2974457ad6372750bbe5751\n",
      "\n",
      "  sns.distplot(df[col])\n",
      "c:\\Users\\Administrator\\AppData\\Local\\Programs\\Python\\Python311\\Lib\\site-packages\\seaborn\\_oldcore.py:1498: FutureWarning: is_categorical_dtype is deprecated and will be removed in a future version. Use isinstance(dtype, CategoricalDtype) instead\n",
      "  if pd.api.types.is_categorical_dtype(vector):\n",
      "c:\\Users\\Administrator\\AppData\\Local\\Programs\\Python\\Python311\\Lib\\site-packages\\seaborn\\_oldcore.py:1119: FutureWarning: use_inf_as_na option is deprecated and will be removed in a future version. Convert inf values to NaN before operating instead.\n",
      "  with pd.option_context('mode.use_inf_as_na', True):\n",
      "C:\\Users\\Administrator\\AppData\\Local\\Temp\\ipykernel_17452\\2269448524.py:4: UserWarning: \n",
      "\n",
      "`distplot` is a deprecated function and will be removed in seaborn v0.14.0.\n",
      "\n",
      "Please adapt your code to use either `displot` (a figure-level function with\n",
      "similar flexibility) or `histplot` (an axes-level function for histograms).\n",
      "\n",
      "For a guide to updating your code to use the new functions, please see\n",
      "https://gist.github.com/mwaskom/de44147ed2974457ad6372750bbe5751\n",
      "\n",
      "  sns.distplot(df[col])\n",
      "c:\\Users\\Administrator\\AppData\\Local\\Programs\\Python\\Python311\\Lib\\site-packages\\seaborn\\_oldcore.py:1498: FutureWarning: is_categorical_dtype is deprecated and will be removed in a future version. Use isinstance(dtype, CategoricalDtype) instead\n",
      "  if pd.api.types.is_categorical_dtype(vector):\n",
      "c:\\Users\\Administrator\\AppData\\Local\\Programs\\Python\\Python311\\Lib\\site-packages\\seaborn\\_oldcore.py:1119: FutureWarning: use_inf_as_na option is deprecated and will be removed in a future version. Convert inf values to NaN before operating instead.\n",
      "  with pd.option_context('mode.use_inf_as_na', True):\n"
     ]
    },
    {
     "data": {
      "image/png": "[encoded data removed]",
      "text/plain": [
       "<Figure size 320x240 with 1 Axes>"
      ]
     },
     "metadata": {},
     "output_type": "display_data"
    },
    {
     "data": {
      "image/png": "[encoded data removed]",
      "text/plain": [
       "<Figure size 320x240 with 1 Axes>"
      ]
     },
     "metadata": {},
     "output_type": "display_data"
    },
    {
     "data": {
      "image/png": "[encoded data removed]",
      "text/plain": [
       "<Figure size 320x240 with 1 Axes>"
      ]
     },
     "metadata": {},
     "output_type": "display_data"
    }
   ],
   "source": [
    "# 连续特征\n",
    "for col in num_cols:\n",
    "    plt.figure(dpi=50)\n",
    "    sns.distplot(df[col])"
   ]
  },
  {
   "cell_type": "code",
   "execution_count": 13,
   "id": "87cba56a",
   "metadata": {},
   "outputs": [],
   "source": [
    "# 原生数据编码\n",
    "for col in num_cols:\n",
    "    df[col] = df[col].fillna(0)\n",
    "    # min-max\n",
    "    # df[col] = (df[col] - df[col].mean()) / (df[col].max() - df[col].min())\n",
    "    \n",
    "    # z-score\n",
    "    df[col] = (df[col] - df[col].mean()) / df[col].std()"
   ]
  },
  {
   "cell_type": "code",
   "execution_count": 14,
   "id": "2eda1d2c",
   "metadata": {},
   "outputs": [
    {
     "data": {
      "text/plain": [
       "label  label\n",
       "0      0        2915522\n",
       "1      1         614730\n",
       "Name: count, dtype: int64"
      ]
     },
     "execution_count": 14,
     "metadata": {},
     "output_type": "execute_result"
    }
   ],
   "source": [
    "train_df['label'].groupby(train_df['label']).value_counts()"
   ]
  },
  {
   "cell_type": "code",
   "execution_count": 15,
   "id": "3b2b7eb7",
   "metadata": {},
   "outputs": [],
   "source": [
    "# sklearn 数据编码\n",
    "# scaler = StandardScaler()\n",
    "# scaler = MinMaxScaler()\n",
    "# df[num_cols] = scaler.fit_transform(df[num_cols])\n",
    "\n",
    "# train_df[num_cols] = scaler.fit(train_df[num_cols])\n",
    "\n",
    "# train_df[num_cols] = scaler.transform(train_df[num_cols])\n",
    "# test_df[num_cols] = scaler.transform(test_df[num_cols])"
   ]
  },
  {
   "cell_type": "code",
   "execution_count": 16,
   "id": "6fe3ba40",
   "metadata": {},
   "outputs": [],
   "source": [
    "# 离散特征\n",
    "# for col in ['user_fea1', 'user_fea2', 'user_fea3', 'user_fea4', 'user_fea5', 'item_fea1', 'user_fea9']:\n",
    "#     plt.figure(dpi=150)\n",
    "#     sns.countplot(df[col])"
   ]
  },
  {
   "cell_type": "code",
   "execution_count": 17,
   "id": "96c47063",
   "metadata": {},
   "outputs": [
    {
     "name": "stderr",
     "output_type": "stream",
     "text": [
      "c:\\Users\\Administrator\\AppData\\Local\\Programs\\Python\\Python311\\Lib\\site-packages\\seaborn\\_oldcore.py:1498: FutureWarning: is_categorical_dtype is deprecated and will be removed in a future version. Use isinstance(dtype, CategoricalDtype) instead\n",
      "  if pd.api.types.is_categorical_dtype(vector):\n",
      "c:\\Users\\Administrator\\AppData\\Local\\Programs\\Python\\Python311\\Lib\\site-packages\\seaborn\\_oldcore.py:1119: FutureWarning: use_inf_as_na option is deprecated and will be removed in a future version. Convert inf values to NaN before operating instead.\n",
      "  with pd.option_context('mode.use_inf_as_na', True):\n"
     ]
    },
    {
     "data": {
      "text/plain": [
       "<Axes: xlabel='label', ylabel='Count'>"
      ]
     },
     "execution_count": 17,
     "metadata": {},
     "output_type": "execute_result"
    },
    {
     "data": {
      "image/png": "[encoded data removed]",
      "text/plain": [
       "<Figure size 320x240 with 1 Axes>"
      ]
     },
     "metadata": {},
     "output_type": "display_data"
    }
   ],
   "source": [
    "plt.figure(dpi=50)\n",
    "sns.histplot(train_df['label'])"
   ]
  },
  {
   "cell_type": "code",
   "execution_count": 18,
   "id": "32b13244",
   "metadata": {},
   "outputs": [],
   "source": [
    "# 原生离散特征编码\n",
    "# 操作df一列：\n",
    "# 1.map方法：输入一个dict(k:v对)\n",
    "# 2.apply方法：输入一个func,这个func的输入是该列特征的一个值，返回结果是修改后的值\n",
    "for col in cate_cols:\n",
    "    df[col] = df[col].fillna('-1')\n",
    "    map_dict = dict(zip(df[col].unique(), range(df[col].nunique())))\n",
    "\n",
    "    df[col] = df[col].map(map_dict)\n",
    "    df[f'{col}_count'] = df[col].map(df[col].value_counts())"
   ]
  },
  {
   "cell_type": "code",
   "execution_count": 19,
   "id": "21aca36e",
   "metadata": {},
   "outputs": [],
   "source": [
    "# 需要维护一个map_dict来定义映射的方法\n",
    "map_dict = dict(zip(train_df['user_fea1'].unique(), range(train_df['user_fea1'].nunique())))"
   ]
  },
  {
   "cell_type": "code",
   "execution_count": 20,
   "id": "4a6150a7",
   "metadata": {},
   "outputs": [],
   "source": [
    "def func1(x):\n",
    "    return '666_' + x"
   ]
  },
  {
   "cell_type": "code",
   "execution_count": 21,
   "id": "6e707584",
   "metadata": {},
   "outputs": [
    {
     "data": {
      "text/plain": [
       "0          666_KmsYcoDyQi7zprXT\n",
       "1          666_KmsYcoDyQi7zprXT\n",
       "2          666_KmsYcoDyQi7zprXT\n",
       "3          666_KmsYcoDyQi7zprXT\n",
       "4          666_KmsYcoDyQi7zprXT\n",
       "                   ...         \n",
       "3530247    666_J2lywfeYA6Cov3mu\n",
       "3530248    666_J2lywfeYA6Cov3mu\n",
       "3530249    666_J2lywfeYA6Cov3mu\n",
       "3530250    666_J2lywfeYA6Cov3mu\n",
       "3530251    666_J2lywfeYA6Cov3mu\n",
       "Name: user_fea1, Length: 3530252, dtype: object"
      ]
     },
     "execution_count": 21,
     "metadata": {},
     "output_type": "execute_result"
    }
   ],
   "source": [
    "train_df['user_fea1'].apply(func1)"
   ]
  },
  {
   "cell_type": "code",
   "execution_count": 22,
   "id": "a933b8bf",
   "metadata": {},
   "outputs": [],
   "source": [
    "# sklearn 离散特征编码\n",
    "for col in cate_cols:\n",
    "    scale = LabelEncoder()\n",
    "    scale.fit(df[col])\n",
    "    df[col] = scale.transform(df[col])"
   ]
  },
  {
   "cell_type": "code",
   "execution_count": 23,
   "id": "83c0bdea",
   "metadata": {},
   "outputs": [
    {
     "data": {
      "text/plain": [
       "((3530252, 27), (2281206, 27))"
      ]
     },
     "execution_count": 23,
     "metadata": {},
     "output_type": "execute_result"
    }
   ],
   "source": [
    "# 分割数据\n",
    "train_df = df[df['label'].notna()].reset_index(drop=True)\n",
    "test_df = df[df['label'].isna()].reset_index(drop=True)\n",
    "train_df.shape, test_df.shape"
   ]
  },
  {
   "cell_type": "code",
   "execution_count": 24,
   "id": "08fa9faa",
   "metadata": {},
   "outputs": [
    {
     "name": "stdout",
     "output_type": "stream",
     "text": [
      "21 ['user_id', 'item_id', 'item_fea1', 'user_fea1', 'user_fea2', 'user_fea3', 'user_fea4', 'user_fea5', 'user_fea6', 'user_fea7', 'user_fea8', 'user_fea9', 'user_id_count', 'item_id_count', 'user_fea1_count', 'user_fea2_count', 'user_fea3_count', 'user_fea4_count', 'user_fea5_count', 'item_fea1_count', 'user_fea9_count']\n"
     ]
    }
   ],
   "source": [
    "# 删除不需要的特征\n",
    "drop_feature = ['ID','label','lng','lat','ts','user_tag']\n",
    "feature = [x for x in train_df.columns if x not in drop_feature]\n",
    "print(len(feature), feature)"
   ]
  },
  {
   "cell_type": "markdown",
   "id": "9bc93f1e",
   "metadata": {},
   "source": [
    "## 模型调用"
   ]
  },
  {
   "cell_type": "code",
   "execution_count": 25,
   "id": "862b96a1",
   "metadata": {},
   "outputs": [
    {
     "data": {
      "text/plain": [
       "'\\n# 实例化模型\\nmodel = XXX(**params)\\n\\n# 拟合模型\\nmodel.fit(X_train, y_train)\\n\\n# 模型预测 类别\\nmodel.predict(X_test)\\n\\n# 输出概率(分类任务)\\nmodel.predict_proba(X_test)\\n\\n# 获得这个模型的参数\\nmodel.get_params()\\n'"
      ]
     },
     "execution_count": 25,
     "metadata": {},
     "output_type": "execute_result"
    }
   ],
   "source": [
    "### sklearn一般的范式\n",
    "'''\n",
    "# 实例化模型\n",
    "model = XXX(**params)\n",
    "\n",
    "# 拟合模型\n",
    "model.fit(X_train, y_train)\n",
    "\n",
    "# 模型预测 类别\n",
    "model.predict(X_test)\n",
    "\n",
    "# 输出概率(分类任务)\n",
    "model.predict_proba(X_test)\n",
    "\n",
    "# 获得这个模型的参数\n",
    "model.get_params()\n",
    "'''"
   ]
  },
  {
   "cell_type": "code",
   "execution_count": 26,
   "id": "5b731165",
   "metadata": {},
   "outputs": [],
   "source": [
    "# split data\n",
    "from sklearn.model_selection import train_test_split\n",
    "X_train, X_test, Y_train, Y_test = train_test_split(train_df[feature], train_df['label'], random_state=666)"
   ]
  },
  {
   "cell_type": "code",
   "execution_count": 27,
   "id": "dce569da",
   "metadata": {},
   "outputs": [
    {
     "data": {
      "text/plain": [
       "((2647689, 21), (882563, 21), (2647689,), (882563,))"
      ]
     },
     "execution_count": 27,
     "metadata": {},
     "output_type": "execute_result"
    }
   ],
   "source": [
    "X_train.shape, X_test.shape, Y_train.shape, Y_test.shape"
   ]
  },
  {
   "cell_type": "code",
   "execution_count": 28,
   "id": "17013cf4",
   "metadata": {},
   "outputs": [],
   "source": [
    "from sklearn.linear_model import LinearRegression\n",
    "from sklearn.linear_model import LogisticRegression\n",
    "from sklearn.naive_bayes import BernoulliNB, MultinomialNB, GaussianNB\n",
    "from sklearn.svm import SVC\n",
    "from sklearn.neighbors import KNeighborsClassifier\n",
    "from sklearn.neural_network import MLPClassifier\n",
    "from sklearn.ensemble import AdaBoostClassifier, RandomForestClassifier"
   ]
  },
  {
   "cell_type": "code",
   "execution_count": 29,
   "id": "8390b179",
   "metadata": {},
   "outputs": [
    {
     "data": {
      "text/html": [
       "<style>#sk-container-id-1 {color: black;}#sk-container-id-1 pre{padding: 0;}#sk-container-id-1 div.sk-toggleable {background-color: white;}#sk-container-id-1 label.sk-toggleable__label {cursor: pointer;display: block;width: 100%;margin-bottom: 0;padding: 0.3em;box-sizing: border-box;text-align: center;}#sk-container-id-1 label.sk-toggleable__label-arrow:before {content: \"▸\";float: left;margin-right: 0.25em;color: #696969;}#sk-container-id-1 label.sk-toggleable__label-arrow:hover:before {color: black;}#sk-container-id-1 div.sk-estimator:hover label.sk-toggleable__label-arrow:before {color: black;}#sk-container-id-1 div.sk-toggleable__content {max-height: 0;max-width: 0;overflow: hidden;text-align: left;background-color: #f0f8ff;}#sk-container-id-1 div.sk-toggleable__content pre {margin: 0.2em;color: black;border-radius: 0.25em;background-color: #f0f8ff;}#sk-container-id-1 input.sk-toggleable__control:checked~div.sk-toggleable__content {max-height: 200px;max-width: 100%;overflow: auto;}#sk-container-id-1 input.sk-toggleable__control:checked~label.sk-toggleable__label-arrow:before {content: \"▾\";}#sk-container-id-1 div.sk-estimator input.sk-toggleable__control:checked~label.sk-toggleable__label {background-color: #d4ebff;}#sk-container-id-1 div.sk-label input.sk-toggleable__control:checked~label.sk-toggleable__label {background-color: #d4ebff;}#sk-container-id-1 input.sk-hidden--visually {border: 0;clip: rect(1px 1px 1px 1px);clip: rect(1px, 1px, 1px, 1px);height: 1px;margin: -1px;overflow: hidden;padding: 0;position: absolute;width: 1px;}#sk-container-id-1 div.sk-estimator {font-family: monospace;background-color: #f0f8ff;border: 1px dotted black;border-radius: 0.25em;box-sizing: border-box;margin-bottom: 0.5em;}#sk-container-id-1 div.sk-estimator:hover {background-color: #d4ebff;}#sk-container-id-1 div.sk-parallel-item::after {content: \"\";width: 100%;border-bottom: 1px solid gray;flex-grow: 1;}#sk-container-id-1 div.sk-label:hover label.sk-toggleable__label {background-color: #d4ebff;}#sk-container-id-1 div.sk-serial::before {content: \"\";position: absolute;border-left: 1px solid gray;box-sizing: border-box;top: 0;bottom: 0;left: 50%;z-index: 0;}#sk-container-id-1 div.sk-serial {display: flex;flex-direction: column;align-items: center;background-color: white;padding-right: 0.2em;padding-left: 0.2em;position: relative;}#sk-container-id-1 div.sk-item {position: relative;z-index: 1;}#sk-container-id-1 div.sk-parallel {display: flex;align-items: stretch;justify-content: center;background-color: white;position: relative;}#sk-container-id-1 div.sk-item::before, #sk-container-id-1 div.sk-parallel-item::before {content: \"\";position: absolute;border-left: 1px solid gray;box-sizing: border-box;top: 0;bottom: 0;left: 50%;z-index: -1;}#sk-container-id-1 div.sk-parallel-item {display: flex;flex-direction: column;z-index: 1;position: relative;background-color: white;}#sk-container-id-1 div.sk-parallel-item:first-child::after {align-self: flex-end;width: 50%;}#sk-container-id-1 div.sk-parallel-item:last-child::after {align-self: flex-start;width: 50%;}#sk-container-id-1 div.sk-parallel-item:only-child::after {width: 0;}#sk-container-id-1 div.sk-dashed-wrapped {border: 1px dashed gray;margin: 0 0.4em 0.5em 0.4em;box-sizing: border-box;padding-bottom: 0.4em;background-color: white;}#sk-container-id-1 div.sk-label label {font-family: monospace;font-weight: bold;display: inline-block;line-height: 1.2em;}#sk-container-id-1 div.sk-label-container {text-align: center;}#sk-container-id-1 div.sk-container {/* jupyter's `normalize.less` sets `[hidden] { display: none; }` but bootstrap.min.css set `[hidden] { display: none !important; }` so we also need the `!important` here to be able to override the default hidden behavior on the sphinx rendered scikit-learn.org. See: https://github.com/scikit-learn/scikit-learn/issues/21755 */display: inline-block !important;position: relative;}#sk-container-id-1 div.sk-text-repr-fallback {display: none;}</style><div id=\"sk-container-id-1\" class=\"sk-top-container\"><div class=\"sk-text-repr-fallback\"><pre>AdaBoostClassifier()</pre><b>In a Jupyter environment, please rerun this cell to show the HTML representation or trust the notebook. <br />On GitHub, the HTML representation is unable to render, please try loading this page with nbviewer.org.</b></div><div class=\"sk-container\" hidden><div class=\"sk-item\"><div class=\"sk-estimator sk-toggleable\"><input class=\"sk-toggleable__control sk-hidden--visually\" id=\"sk-estimator-id-1\" type=\"checkbox\" checked><label for=\"sk-estimator-id-1\" class=\"sk-toggleable__label sk-toggleable__label-arrow\">AdaBoostClassifier</label><div class=\"sk-toggleable__content\"><pre>AdaBoostClassifier()</pre></div></div></div></div></div>"
      ],
      "text/plain": [
       "AdaBoostClassifier()"
      ]
     },
     "execution_count": 29,
     "metadata": {},
     "output_type": "execute_result"
    }
   ],
   "source": [
    "model = AdaBoostClassifier()\n",
    "model.fit(X_train, Y_train)"
   ]
  },
  {
   "cell_type": "code",
   "execution_count": 30,
   "id": "79de9563",
   "metadata": {},
   "outputs": [
    {
     "name": "stdout",
     "output_type": "stream",
     "text": [
      "AdaBoostClassifier() AUC: 0.8026027777302978\n",
      "AdaBoostClassifier() LogLoss: 0.6741827729451837\n"
     ]
    }
   ],
   "source": [
    "y_test_pre = model.predict_proba(X_test)[:, 1]\n",
    "print(f'{str(model)} AUC: {roc_auc_score(Y_test, y_test_pre)}')\n",
    "print(f'{str(model)} LogLoss: {log_loss(Y_test, y_test_pre)}')"
   ]
  },
  {
   "cell_type": "code",
   "execution_count": 31,
   "id": "698cdeb9",
   "metadata": {},
   "outputs": [],
   "source": [
    "# 测试集预测\n",
    "y_pre = model.predict_proba(test_df[feature])[:, 1]"
   ]
  },
  {
   "cell_type": "code",
   "execution_count": 32,
   "id": "7bd7d79b",
   "metadata": {},
   "outputs": [],
   "source": [
    "# 提交格式\n",
    "sklearn_sub_df = pd.DataFrame()\n",
    "sklearn_sub_df['ID'] = test_df['ID']\n",
    "sklearn_sub_df['label'] = y_pre\n",
    "sklearn_sub_df.to_csv('../quick_baseline/sklearn_baseline.csv',index=False)"
   ]
  },
  {
   "cell_type": "markdown",
   "id": "809f3aff",
   "metadata": {},
   "source": [
    "## 模型验证"
   ]
  },
  {
   "cell_type": "code",
   "execution_count": 33,
   "id": "7190bb3b",
   "metadata": {},
   "outputs": [
    {
     "name": "stdout",
     "output_type": "stream",
     "text": [
      "Training until validation scores don't improve for 50 rounds\n",
      "[50]\ttraining's binary_logloss: 0.348639\ttraining's auc: 0.838277\tvalid_1's binary_logloss: 0.349025\tvalid_1's auc: 0.837033\n",
      "[100]\ttraining's binary_logloss: 0.331203\ttraining's auc: 0.860295\tvalid_1's binary_logloss: 0.332585\tvalid_1's auc: 0.857857\n",
      "[150]\ttraining's binary_logloss: 0.321047\ttraining's auc: 0.87198\tvalid_1's binary_logloss: 0.32339\tvalid_1's auc: 0.868531\n",
      "[200]\ttraining's binary_logloss: 0.314268\ttraining's auc: 0.879236\tvalid_1's binary_logloss: 0.317532\tvalid_1's auc: 0.874852\n",
      "[250]\ttraining's binary_logloss: 0.308775\ttraining's auc: 0.884856\tvalid_1's binary_logloss: 0.313005\tvalid_1's auc: 0.879511\n",
      "[300]\ttraining's binary_logloss: 0.303744\ttraining's auc: 0.88972\tvalid_1's binary_logloss: 0.308831\tvalid_1's auc: 0.883609\n",
      "[350]\ttraining's binary_logloss: 0.299311\ttraining's auc: 0.893728\tvalid_1's binary_logloss: 0.305362\tvalid_1's auc: 0.886766\n",
      "[400]\ttraining's binary_logloss: 0.295703\ttraining's auc: 0.896929\tvalid_1's binary_logloss: 0.302656\tvalid_1's auc: 0.889173\n",
      "[450]\ttraining's binary_logloss: 0.292424\ttraining's auc: 0.899703\tvalid_1's binary_logloss: 0.300191\tvalid_1's auc: 0.89122\n",
      "[500]\ttraining's binary_logloss: 0.28952\ttraining's auc: 0.902117\tvalid_1's binary_logloss: 0.298119\tvalid_1's auc: 0.89291\n",
      "[550]\ttraining's binary_logloss: 0.286771\ttraining's auc: 0.904383\tvalid_1's binary_logloss: 0.296302\tvalid_1's auc: 0.894365\n",
      "[600]\ttraining's binary_logloss: 0.28409\ttraining's auc: 0.906522\tvalid_1's binary_logloss: 0.294424\tvalid_1's auc: 0.89585\n",
      "[650]\ttraining's binary_logloss: 0.281672\ttraining's auc: 0.908368\tvalid_1's binary_logloss: 0.29282\tvalid_1's auc: 0.897086\n",
      "[700]\ttraining's binary_logloss: 0.279258\ttraining's auc: 0.910241\tvalid_1's binary_logloss: 0.291237\tvalid_1's auc: 0.898299\n",
      "[750]\ttraining's binary_logloss: 0.277192\ttraining's auc: 0.911793\tvalid_1's binary_logloss: 0.289935\tvalid_1's auc: 0.899257\n",
      "[800]\ttraining's binary_logloss: 0.275392\ttraining's auc: 0.913147\tvalid_1's binary_logloss: 0.288965\tvalid_1's auc: 0.899951\n",
      "[850]\ttraining's binary_logloss: 0.273481\ttraining's auc: 0.91459\tvalid_1's binary_logloss: 0.287846\tvalid_1's auc: 0.90078\n",
      "[900]\ttraining's binary_logloss: 0.271783\ttraining's auc: 0.91583\tvalid_1's binary_logloss: 0.286852\tvalid_1's auc: 0.901497\n",
      "[950]\ttraining's binary_logloss: 0.270197\ttraining's auc: 0.917011\tvalid_1's binary_logloss: 0.286121\tvalid_1's auc: 0.901993\n",
      "[1000]\ttraining's binary_logloss: 0.268514\ttraining's auc: 0.91824\tvalid_1's binary_logloss: 0.285189\tvalid_1's auc: 0.902661\n",
      "[1050]\ttraining's binary_logloss: 0.26687\ttraining's auc: 0.919421\tvalid_1's binary_logloss: 0.284351\tvalid_1's auc: 0.903233\n",
      "[1100]\ttraining's binary_logloss: 0.265424\ttraining's auc: 0.920474\tvalid_1's binary_logloss: 0.283754\tvalid_1's auc: 0.90364\n",
      "[1150]\ttraining's binary_logloss: 0.264032\ttraining's auc: 0.92148\tvalid_1's binary_logloss: 0.283197\tvalid_1's auc: 0.904012\n",
      "[1200]\ttraining's binary_logloss: 0.262677\ttraining's auc: 0.922438\tvalid_1's binary_logloss: 0.282607\tvalid_1's auc: 0.904404\n",
      "[1250]\ttraining's binary_logloss: 0.261337\ttraining's auc: 0.923339\tvalid_1's binary_logloss: 0.281997\tvalid_1's auc: 0.904799\n",
      "[1300]\ttraining's binary_logloss: 0.260056\ttraining's auc: 0.924185\tvalid_1's binary_logloss: 0.28141\tvalid_1's auc: 0.905177\n",
      "[1350]\ttraining's binary_logloss: 0.258891\ttraining's auc: 0.925023\tvalid_1's binary_logloss: 0.281027\tvalid_1's auc: 0.905444\n",
      "[1400]\ttraining's binary_logloss: 0.25766\ttraining's auc: 0.925887\tvalid_1's binary_logloss: 0.280575\tvalid_1's auc: 0.905756\n",
      "[1450]\ttraining's binary_logloss: 0.25641\ttraining's auc: 0.926731\tvalid_1's binary_logloss: 0.280063\tvalid_1's auc: 0.906108\n",
      "[1500]\ttraining's binary_logloss: 0.255252\ttraining's auc: 0.92753\tvalid_1's binary_logloss: 0.279577\tvalid_1's auc: 0.906444\n",
      "[1550]\ttraining's binary_logloss: 0.254145\ttraining's auc: 0.928267\tvalid_1's binary_logloss: 0.27922\tvalid_1's auc: 0.906664\n",
      "[1600]\ttraining's binary_logloss: 0.253116\ttraining's auc: 0.928958\tvalid_1's binary_logloss: 0.278901\tvalid_1's auc: 0.906858\n",
      "[1650]\ttraining's binary_logloss: 0.252092\ttraining's auc: 0.929664\tvalid_1's binary_logloss: 0.278574\tvalid_1's auc: 0.907068\n",
      "[1700]\ttraining's binary_logloss: 0.25107\ttraining's auc: 0.930342\tvalid_1's binary_logloss: 0.278281\tvalid_1's auc: 0.907231\n",
      "[1750]\ttraining's binary_logloss: 0.25013\ttraining's auc: 0.930977\tvalid_1's binary_logloss: 0.278028\tvalid_1's auc: 0.90738\n",
      "[1800]\ttraining's binary_logloss: 0.249103\ttraining's auc: 0.931652\tvalid_1's binary_logloss: 0.277704\tvalid_1's auc: 0.907583\n",
      "[1850]\ttraining's binary_logloss: 0.248122\ttraining's auc: 0.932303\tvalid_1's binary_logloss: 0.277475\tvalid_1's auc: 0.907719\n",
      "[1900]\ttraining's binary_logloss: 0.247147\ttraining's auc: 0.932969\tvalid_1's binary_logloss: 0.277326\tvalid_1's auc: 0.907792\n",
      "[1950]\ttraining's binary_logloss: 0.246145\ttraining's auc: 0.933627\tvalid_1's binary_logloss: 0.276988\tvalid_1's auc: 0.908025\n",
      "[2000]\ttraining's binary_logloss: 0.245201\ttraining's auc: 0.934252\tvalid_1's binary_logloss: 0.276758\tvalid_1's auc: 0.908173\n",
      "Did not meet early stopping. Best iteration is:\n",
      "[2000]\ttraining's binary_logloss: 0.245201\ttraining's auc: 0.934252\tvalid_1's binary_logloss: 0.276758\tvalid_1's auc: 0.908173\n",
      "Training until validation scores don't improve for 50 rounds\n",
      "[50]\ttraining's binary_logloss: 0.347766\ttraining's auc: 0.839288\tvalid_1's binary_logloss: 0.349821\tvalid_1's auc: 0.836387\n",
      "[100]\ttraining's binary_logloss: 0.33103\ttraining's auc: 0.860371\tvalid_1's binary_logloss: 0.333837\tvalid_1's auc: 0.856831\n",
      "[150]\ttraining's binary_logloss: 0.320856\ttraining's auc: 0.872087\tvalid_1's binary_logloss: 0.324426\tvalid_1's auc: 0.867789\n",
      "[200]\ttraining's binary_logloss: 0.313683\ttraining's auc: 0.879708\tvalid_1's binary_logloss: 0.31818\tvalid_1's auc: 0.874529\n",
      "[250]\ttraining's binary_logloss: 0.307712\ttraining's auc: 0.885734\tvalid_1's binary_logloss: 0.313075\tvalid_1's auc: 0.879781\n",
      "[300]\ttraining's binary_logloss: 0.30299\ttraining's auc: 0.890239\tvalid_1's binary_logloss: 0.309194\tvalid_1's auc: 0.883527\n",
      "[350]\ttraining's binary_logloss: 0.298679\ttraining's auc: 0.894108\tvalid_1's binary_logloss: 0.305718\tvalid_1's auc: 0.886666\n",
      "[400]\ttraining's binary_logloss: 0.295388\ttraining's auc: 0.896974\tvalid_1's binary_logloss: 0.303235\tvalid_1's auc: 0.888819\n",
      "[450]\ttraining's binary_logloss: 0.29184\ttraining's auc: 0.899974\tvalid_1's binary_logloss: 0.300384\tvalid_1's auc: 0.891252\n",
      "[500]\ttraining's binary_logloss: 0.28894\ttraining's auc: 0.902367\tvalid_1's binary_logloss: 0.29829\tvalid_1's auc: 0.892975\n",
      "[550]\ttraining's binary_logloss: 0.286117\ttraining's auc: 0.904701\tvalid_1's binary_logloss: 0.29631\tvalid_1's auc: 0.894602\n",
      "[600]\ttraining's binary_logloss: 0.283652\ttraining's auc: 0.906643\tvalid_1's binary_logloss: 0.294633\tvalid_1's auc: 0.895908\n",
      "[650]\ttraining's binary_logloss: 0.281103\ttraining's auc: 0.90863\tvalid_1's binary_logloss: 0.292838\tvalid_1's auc: 0.897315\n",
      "[700]\ttraining's binary_logloss: 0.278651\ttraining's auc: 0.910526\tvalid_1's binary_logloss: 0.291034\tvalid_1's auc: 0.898735\n",
      "[750]\ttraining's binary_logloss: 0.276689\ttraining's auc: 0.912061\tvalid_1's binary_logloss: 0.289825\tvalid_1's auc: 0.899684\n",
      "[800]\ttraining's binary_logloss: 0.274656\ttraining's auc: 0.913563\tvalid_1's binary_logloss: 0.288556\tvalid_1's auc: 0.900608\n",
      "[850]\ttraining's binary_logloss: 0.272904\ttraining's auc: 0.91488\tvalid_1's binary_logloss: 0.287583\tvalid_1's auc: 0.901333\n",
      "[900]\ttraining's binary_logloss: 0.271216\ttraining's auc: 0.916108\tvalid_1's binary_logloss: 0.286704\tvalid_1's auc: 0.90195\n",
      "[950]\ttraining's binary_logloss: 0.269597\ttraining's auc: 0.917335\tvalid_1's binary_logloss: 0.285848\tvalid_1's auc: 0.902588\n",
      "[1000]\ttraining's binary_logloss: 0.268007\ttraining's auc: 0.91848\tvalid_1's binary_logloss: 0.285074\tvalid_1's auc: 0.903103\n",
      "[1050]\ttraining's binary_logloss: 0.266496\ttraining's auc: 0.919509\tvalid_1's binary_logloss: 0.284302\tvalid_1's auc: 0.903608\n",
      "[1100]\ttraining's binary_logloss: 0.264963\ttraining's auc: 0.9206\tvalid_1's binary_logloss: 0.28351\tvalid_1's auc: 0.904156\n",
      "[1150]\ttraining's binary_logloss: 0.263513\ttraining's auc: 0.921612\tvalid_1's binary_logloss: 0.282869\tvalid_1's auc: 0.904586\n",
      "[1200]\ttraining's binary_logloss: 0.262209\ttraining's auc: 0.922519\tvalid_1's binary_logloss: 0.28227\tvalid_1's auc: 0.904993\n",
      "[1250]\ttraining's binary_logloss: 0.260977\ttraining's auc: 0.92339\tvalid_1's binary_logloss: 0.281821\tvalid_1's auc: 0.905279\n",
      "[1300]\ttraining's binary_logloss: 0.259796\ttraining's auc: 0.924252\tvalid_1's binary_logloss: 0.28144\tvalid_1's auc: 0.905534\n",
      "[1350]\ttraining's binary_logloss: 0.258547\ttraining's auc: 0.925098\tvalid_1's binary_logloss: 0.280924\tvalid_1's auc: 0.905873\n",
      "[1400]\ttraining's binary_logloss: 0.25735\ttraining's auc: 0.925903\tvalid_1's binary_logloss: 0.280471\tvalid_1's auc: 0.90617\n",
      "[1450]\ttraining's binary_logloss: 0.256324\ttraining's auc: 0.92661\tvalid_1's binary_logloss: 0.280132\tvalid_1's auc: 0.906392\n",
      "[1500]\ttraining's binary_logloss: 0.255294\ttraining's auc: 0.927312\tvalid_1's binary_logloss: 0.279774\tvalid_1's auc: 0.906625\n",
      "[1550]\ttraining's binary_logloss: 0.254231\ttraining's auc: 0.928035\tvalid_1's binary_logloss: 0.279432\tvalid_1's auc: 0.906853\n",
      "[1600]\ttraining's binary_logloss: 0.25323\ttraining's auc: 0.92871\tvalid_1's binary_logloss: 0.279131\tvalid_1's auc: 0.907043\n",
      "[1650]\ttraining's binary_logloss: 0.25214\ttraining's auc: 0.929445\tvalid_1's binary_logloss: 0.278764\tvalid_1's auc: 0.907281\n",
      "[1700]\ttraining's binary_logloss: 0.251137\ttraining's auc: 0.930129\tvalid_1's binary_logloss: 0.278515\tvalid_1's auc: 0.907431\n",
      "[1750]\ttraining's binary_logloss: 0.250085\ttraining's auc: 0.93085\tvalid_1's binary_logloss: 0.278196\tvalid_1's auc: 0.907651\n",
      "[1800]\ttraining's binary_logloss: 0.249077\ttraining's auc: 0.931542\tvalid_1's binary_logloss: 0.277961\tvalid_1's auc: 0.907813\n",
      "[1850]\ttraining's binary_logloss: 0.248136\ttraining's auc: 0.932171\tvalid_1's binary_logloss: 0.277723\tvalid_1's auc: 0.907961\n",
      "[1900]\ttraining's binary_logloss: 0.24718\ttraining's auc: 0.932811\tvalid_1's binary_logloss: 0.277546\tvalid_1's auc: 0.908068\n",
      "[1950]\ttraining's binary_logloss: 0.246213\ttraining's auc: 0.933487\tvalid_1's binary_logloss: 0.277377\tvalid_1's auc: 0.908163\n",
      "[2000]\ttraining's binary_logloss: 0.245316\ttraining's auc: 0.93408\tvalid_1's binary_logloss: 0.277229\tvalid_1's auc: 0.908255\n",
      "Did not meet early stopping. Best iteration is:\n",
      "[2000]\ttraining's binary_logloss: 0.245316\ttraining's auc: 0.93408\tvalid_1's binary_logloss: 0.277229\tvalid_1's auc: 0.908255\n",
      "Training until validation scores don't improve for 50 rounds\n",
      "[50]\ttraining's binary_logloss: 0.348246\ttraining's auc: 0.83855\tvalid_1's binary_logloss: 0.348686\tvalid_1's auc: 0.838732\n",
      "[100]\ttraining's binary_logloss: 0.331111\ttraining's auc: 0.860276\tvalid_1's binary_logloss: 0.332465\tvalid_1's auc: 0.859204\n",
      "[150]\ttraining's binary_logloss: 0.321564\ttraining's auc: 0.871363\tvalid_1's binary_logloss: 0.323878\tvalid_1's auc: 0.869164\n",
      "[200]\ttraining's binary_logloss: 0.313695\ttraining's auc: 0.879874\tvalid_1's binary_logloss: 0.316872\tvalid_1's auc: 0.876703\n",
      "[250]\ttraining's binary_logloss: 0.307545\ttraining's auc: 0.885962\tvalid_1's binary_logloss: 0.311573\tvalid_1's auc: 0.88193\n",
      "[300]\ttraining's binary_logloss: 0.302668\ttraining's auc: 0.890551\tvalid_1's binary_logloss: 0.307535\tvalid_1's auc: 0.885676\n",
      "[350]\ttraining's binary_logloss: 0.298437\ttraining's auc: 0.894345\tvalid_1's binary_logloss: 0.304241\tvalid_1's auc: 0.888611\n",
      "[400]\ttraining's binary_logloss: 0.294899\ttraining's auc: 0.897418\tvalid_1's binary_logloss: 0.301522\tvalid_1's auc: 0.890935\n",
      "[450]\ttraining's binary_logloss: 0.291986\ttraining's auc: 0.899997\tvalid_1's binary_logloss: 0.29947\tvalid_1's auc: 0.892714\n",
      "[500]\ttraining's binary_logloss: 0.288916\ttraining's auc: 0.902502\tvalid_1's binary_logloss: 0.297269\tvalid_1's auc: 0.894468\n",
      "[550]\ttraining's binary_logloss: 0.286085\ttraining's auc: 0.904735\tvalid_1's binary_logloss: 0.295258\tvalid_1's auc: 0.896013\n",
      "[600]\ttraining's binary_logloss: 0.283562\ttraining's auc: 0.906713\tvalid_1's binary_logloss: 0.293488\tvalid_1's auc: 0.897386\n",
      "[650]\ttraining's binary_logloss: 0.281191\ttraining's auc: 0.908521\tvalid_1's binary_logloss: 0.29197\tvalid_1's auc: 0.898508\n",
      "[700]\ttraining's binary_logloss: 0.278942\ttraining's auc: 0.910194\tvalid_1's binary_logloss: 0.290478\tvalid_1's auc: 0.899591\n",
      "[750]\ttraining's binary_logloss: 0.276803\ttraining's auc: 0.911808\tvalid_1's binary_logloss: 0.289089\tvalid_1's auc: 0.900607\n",
      "[800]\ttraining's binary_logloss: 0.274771\ttraining's auc: 0.913366\tvalid_1's binary_logloss: 0.287847\tvalid_1's auc: 0.901542\n",
      "[850]\ttraining's binary_logloss: 0.272999\ttraining's auc: 0.914693\tvalid_1's binary_logloss: 0.286886\tvalid_1's auc: 0.902224\n",
      "[900]\ttraining's binary_logloss: 0.271348\ttraining's auc: 0.915944\tvalid_1's binary_logloss: 0.285978\tvalid_1's auc: 0.902872\n",
      "[950]\ttraining's binary_logloss: 0.269827\ttraining's auc: 0.917064\tvalid_1's binary_logloss: 0.285232\tvalid_1's auc: 0.903395\n",
      "[1000]\ttraining's binary_logloss: 0.268256\ttraining's auc: 0.918181\tvalid_1's binary_logloss: 0.284402\tvalid_1's auc: 0.90395\n",
      "[1050]\ttraining's binary_logloss: 0.266812\ttraining's auc: 0.919256\tvalid_1's binary_logloss: 0.283688\tvalid_1's auc: 0.904465\n",
      "[1100]\ttraining's binary_logloss: 0.265573\ttraining's auc: 0.92017\tvalid_1's binary_logloss: 0.283119\tvalid_1's auc: 0.904861\n",
      "[1150]\ttraining's binary_logloss: 0.264144\ttraining's auc: 0.921192\tvalid_1's binary_logloss: 0.282396\tvalid_1's auc: 0.905364\n",
      "[1200]\ttraining's binary_logloss: 0.262784\ttraining's auc: 0.922159\tvalid_1's binary_logloss: 0.281769\tvalid_1's auc: 0.90578\n",
      "[1250]\ttraining's binary_logloss: 0.261367\ttraining's auc: 0.923173\tvalid_1's binary_logloss: 0.28104\tvalid_1's auc: 0.906282\n",
      "[1300]\ttraining's binary_logloss: 0.260224\ttraining's auc: 0.923962\tvalid_1's binary_logloss: 0.280562\tvalid_1's auc: 0.906599\n",
      "[1350]\ttraining's binary_logloss: 0.25898\ttraining's auc: 0.924831\tvalid_1's binary_logloss: 0.280088\tvalid_1's auc: 0.906911\n",
      "[1400]\ttraining's binary_logloss: 0.257808\ttraining's auc: 0.92567\tvalid_1's binary_logloss: 0.27967\tvalid_1's auc: 0.907188\n",
      "[1450]\ttraining's binary_logloss: 0.256725\ttraining's auc: 0.926419\tvalid_1's binary_logloss: 0.279279\tvalid_1's auc: 0.907433\n",
      "[1500]\ttraining's binary_logloss: 0.255559\ttraining's auc: 0.927212\tvalid_1's binary_logloss: 0.278901\tvalid_1's auc: 0.907663\n",
      "[1550]\ttraining's binary_logloss: 0.254467\ttraining's auc: 0.927991\tvalid_1's binary_logloss: 0.278631\tvalid_1's auc: 0.907826\n",
      "[1600]\ttraining's binary_logloss: 0.253411\ttraining's auc: 0.928708\tvalid_1's binary_logloss: 0.278312\tvalid_1's auc: 0.908023\n",
      "[1650]\ttraining's binary_logloss: 0.2522\ttraining's auc: 0.929533\tvalid_1's binary_logloss: 0.277833\tvalid_1's auc: 0.908337\n",
      "[1700]\ttraining's binary_logloss: 0.251193\ttraining's auc: 0.930235\tvalid_1's binary_logloss: 0.277605\tvalid_1's auc: 0.908462\n",
      "[1750]\ttraining's binary_logloss: 0.250178\ttraining's auc: 0.930924\tvalid_1's binary_logloss: 0.277361\tvalid_1's auc: 0.908597\n",
      "[1800]\ttraining's binary_logloss: 0.249115\ttraining's auc: 0.931625\tvalid_1's binary_logloss: 0.277013\tvalid_1's auc: 0.908814\n",
      "[1850]\ttraining's binary_logloss: 0.2481\ttraining's auc: 0.932266\tvalid_1's binary_logloss: 0.276675\tvalid_1's auc: 0.909022\n",
      "[1900]\ttraining's binary_logloss: 0.247118\ttraining's auc: 0.932899\tvalid_1's binary_logloss: 0.276385\tvalid_1's auc: 0.909197\n",
      "[1950]\ttraining's binary_logloss: 0.246181\ttraining's auc: 0.933541\tvalid_1's binary_logloss: 0.276258\tvalid_1's auc: 0.909268\n",
      "[2000]\ttraining's binary_logloss: 0.245259\ttraining's auc: 0.93415\tvalid_1's binary_logloss: 0.27602\tvalid_1's auc: 0.909409\n",
      "Did not meet early stopping. Best iteration is:\n",
      "[2000]\ttraining's binary_logloss: 0.245259\ttraining's auc: 0.93415\tvalid_1's binary_logloss: 0.27602\tvalid_1's auc: 0.909409\n",
      "Training until validation scores don't improve for 50 rounds\n",
      "[50]\ttraining's binary_logloss: 0.34763\ttraining's auc: 0.83952\tvalid_1's binary_logloss: 0.350224\tvalid_1's auc: 0.83614\n",
      "[100]\ttraining's binary_logloss: 0.330591\ttraining's auc: 0.860901\tvalid_1's binary_logloss: 0.334309\tvalid_1's auc: 0.856285\n",
      "[150]\ttraining's binary_logloss: 0.320528\ttraining's auc: 0.872372\tvalid_1's binary_logloss: 0.325197\tvalid_1's auc: 0.866813\n",
      "[200]\ttraining's binary_logloss: 0.313759\ttraining's auc: 0.879677\tvalid_1's binary_logloss: 0.319386\tvalid_1's auc: 0.873141\n",
      "[250]\ttraining's binary_logloss: 0.308032\ttraining's auc: 0.885467\tvalid_1's binary_logloss: 0.31461\tvalid_1's auc: 0.878015\n",
      "[300]\ttraining's binary_logloss: 0.302731\ttraining's auc: 0.89053\tvalid_1's binary_logloss: 0.310218\tvalid_1's auc: 0.882267\n",
      "[350]\ttraining's binary_logloss: 0.298509\ttraining's auc: 0.894345\tvalid_1's binary_logloss: 0.306895\tvalid_1's auc: 0.885326\n",
      "[400]\ttraining's binary_logloss: 0.294799\ttraining's auc: 0.897586\tvalid_1's binary_logloss: 0.304038\tvalid_1's auc: 0.887832\n",
      "[450]\ttraining's binary_logloss: 0.291511\ttraining's auc: 0.900334\tvalid_1's binary_logloss: 0.301597\tvalid_1's auc: 0.889878\n",
      "[500]\ttraining's binary_logloss: 0.288223\ttraining's auc: 0.903065\tvalid_1's binary_logloss: 0.299125\tvalid_1's auc: 0.891972\n",
      "[550]\ttraining's binary_logloss: 0.285412\ttraining's auc: 0.905347\tvalid_1's binary_logloss: 0.297102\tvalid_1's auc: 0.893651\n",
      "[600]\ttraining's binary_logloss: 0.282898\ttraining's auc: 0.907296\tvalid_1's binary_logloss: 0.295498\tvalid_1's auc: 0.894898\n",
      "[650]\ttraining's binary_logloss: 0.280727\ttraining's auc: 0.908974\tvalid_1's binary_logloss: 0.294105\tvalid_1's auc: 0.895975\n",
      "[700]\ttraining's binary_logloss: 0.27866\ttraining's auc: 0.910527\tvalid_1's binary_logloss: 0.292801\tvalid_1's auc: 0.896969\n",
      "[750]\ttraining's binary_logloss: 0.276663\ttraining's auc: 0.912033\tvalid_1's binary_logloss: 0.291644\tvalid_1's auc: 0.897837\n",
      "[800]\ttraining's binary_logloss: 0.274601\ttraining's auc: 0.91358\tvalid_1's binary_logloss: 0.290397\tvalid_1's auc: 0.898791\n",
      "[850]\ttraining's binary_logloss: 0.272738\ttraining's auc: 0.915013\tvalid_1's binary_logloss: 0.28928\tvalid_1's auc: 0.899667\n",
      "[900]\ttraining's binary_logloss: 0.271152\ttraining's auc: 0.916152\tvalid_1's binary_logloss: 0.288401\tvalid_1's auc: 0.900287\n",
      "[950]\ttraining's binary_logloss: 0.269393\ttraining's auc: 0.917383\tvalid_1's binary_logloss: 0.287361\tvalid_1's auc: 0.901032\n",
      "[1000]\ttraining's binary_logloss: 0.267981\ttraining's auc: 0.918397\tvalid_1's binary_logloss: 0.286716\tvalid_1's auc: 0.901482\n",
      "[1050]\ttraining's binary_logloss: 0.266425\ttraining's auc: 0.919506\tvalid_1's binary_logloss: 0.285907\tvalid_1's auc: 0.902061\n",
      "[1100]\ttraining's binary_logloss: 0.26492\ttraining's auc: 0.920567\tvalid_1's binary_logloss: 0.285155\tvalid_1's auc: 0.902597\n",
      "[1150]\ttraining's binary_logloss: 0.26347\ttraining's auc: 0.921617\tvalid_1's binary_logloss: 0.284559\tvalid_1's auc: 0.903023\n",
      "[1200]\ttraining's binary_logloss: 0.26206\ttraining's auc: 0.922609\tvalid_1's binary_logloss: 0.283955\tvalid_1's auc: 0.903448\n",
      "[1250]\ttraining's binary_logloss: 0.260824\ttraining's auc: 0.923508\tvalid_1's binary_logloss: 0.283555\tvalid_1's auc: 0.903716\n",
      "[1300]\ttraining's binary_logloss: 0.2595\ttraining's auc: 0.924454\tvalid_1's binary_logloss: 0.283059\tvalid_1's auc: 0.904065\n",
      "[1350]\ttraining's binary_logloss: 0.258297\ttraining's auc: 0.925299\tvalid_1's binary_logloss: 0.282677\tvalid_1's auc: 0.904323\n",
      "[1400]\ttraining's binary_logloss: 0.257158\ttraining's auc: 0.926107\tvalid_1's binary_logloss: 0.282284\tvalid_1's auc: 0.904601\n",
      "[1450]\ttraining's binary_logloss: 0.25596\ttraining's auc: 0.926949\tvalid_1's binary_logloss: 0.281824\tvalid_1's auc: 0.904935\n",
      "[1500]\ttraining's binary_logloss: 0.254819\ttraining's auc: 0.927722\tvalid_1's binary_logloss: 0.281492\tvalid_1's auc: 0.905153\n",
      "[1550]\ttraining's binary_logloss: 0.253566\ttraining's auc: 0.928549\tvalid_1's binary_logloss: 0.280997\tvalid_1's auc: 0.905479\n",
      "[1600]\ttraining's binary_logloss: 0.252518\ttraining's auc: 0.929279\tvalid_1's binary_logloss: 0.28072\tvalid_1's auc: 0.905664\n",
      "[1650]\ttraining's binary_logloss: 0.25142\ttraining's auc: 0.930027\tvalid_1's binary_logloss: 0.280375\tvalid_1's auc: 0.905895\n",
      "[1700]\ttraining's binary_logloss: 0.250339\ttraining's auc: 0.93075\tvalid_1's binary_logloss: 0.280035\tvalid_1's auc: 0.906121\n",
      "[1750]\ttraining's binary_logloss: 0.249315\ttraining's auc: 0.931421\tvalid_1's binary_logloss: 0.279713\tvalid_1's auc: 0.906332\n",
      "[1800]\ttraining's binary_logloss: 0.24835\ttraining's auc: 0.932067\tvalid_1's binary_logloss: 0.2795\tvalid_1's auc: 0.906464\n",
      "[1850]\ttraining's binary_logloss: 0.24735\ttraining's auc: 0.932735\tvalid_1's binary_logloss: 0.279311\tvalid_1's auc: 0.906585\n",
      "[1900]\ttraining's binary_logloss: 0.246403\ttraining's auc: 0.933378\tvalid_1's binary_logloss: 0.279114\tvalid_1's auc: 0.906713\n",
      "[1950]\ttraining's binary_logloss: 0.245442\ttraining's auc: 0.934007\tvalid_1's binary_logloss: 0.278902\tvalid_1's auc: 0.906837\n",
      "[2000]\ttraining's binary_logloss: 0.244653\ttraining's auc: 0.934541\tvalid_1's binary_logloss: 0.27878\tvalid_1's auc: 0.906917\n",
      "Did not meet early stopping. Best iteration is:\n",
      "[1989]\ttraining's binary_logloss: 0.244824\ttraining's auc: 0.934419\tvalid_1's binary_logloss: 0.278777\tvalid_1's auc: 0.906923\n",
      "Training until validation scores don't improve for 50 rounds\n",
      "[50]\ttraining's binary_logloss: 0.34719\ttraining's auc: 0.840527\tvalid_1's binary_logloss: 0.347985\tvalid_1's auc: 0.838442\n",
      "[100]\ttraining's binary_logloss: 0.33054\ttraining's auc: 0.861007\tvalid_1's binary_logloss: 0.33187\tvalid_1's auc: 0.85854\n",
      "[150]\ttraining's binary_logloss: 0.321152\ttraining's auc: 0.871837\tvalid_1's binary_logloss: 0.323277\tvalid_1's auc: 0.868582\n",
      "[200]\ttraining's binary_logloss: 0.314693\ttraining's auc: 0.878779\tvalid_1's binary_logloss: 0.317725\tvalid_1's auc: 0.87459\n",
      "[250]\ttraining's binary_logloss: 0.309175\ttraining's auc: 0.884365\tvalid_1's binary_logloss: 0.313025\tvalid_1's auc: 0.879366\n",
      "[300]\ttraining's binary_logloss: 0.304331\ttraining's auc: 0.889059\tvalid_1's binary_logloss: 0.309164\tvalid_1's auc: 0.88311\n",
      "[350]\ttraining's binary_logloss: 0.299823\ttraining's auc: 0.893312\tvalid_1's binary_logloss: 0.305563\tvalid_1's auc: 0.886502\n",
      "[400]\ttraining's binary_logloss: 0.296373\ttraining's auc: 0.896366\tvalid_1's binary_logloss: 0.302968\tvalid_1's auc: 0.888814\n",
      "[450]\ttraining's binary_logloss: 0.292753\ttraining's auc: 0.899485\tvalid_1's binary_logloss: 0.300269\tvalid_1's auc: 0.891119\n",
      "[500]\ttraining's binary_logloss: 0.290012\ttraining's auc: 0.90176\tvalid_1's binary_logloss: 0.298465\tvalid_1's auc: 0.892576\n",
      "[550]\ttraining's binary_logloss: 0.287422\ttraining's auc: 0.903906\tvalid_1's binary_logloss: 0.29673\tvalid_1's auc: 0.894\n",
      "[600]\ttraining's binary_logloss: 0.284723\ttraining's auc: 0.906043\tvalid_1's binary_logloss: 0.294919\tvalid_1's auc: 0.895404\n",
      "[650]\ttraining's binary_logloss: 0.282299\ttraining's auc: 0.907986\tvalid_1's binary_logloss: 0.293275\tvalid_1's auc: 0.896709\n",
      "[700]\ttraining's binary_logloss: 0.280327\ttraining's auc: 0.909546\tvalid_1's binary_logloss: 0.292208\tvalid_1's auc: 0.89748\n",
      "[750]\ttraining's binary_logloss: 0.27844\ttraining's auc: 0.911\tvalid_1's binary_logloss: 0.291155\tvalid_1's auc: 0.898266\n",
      "[800]\ttraining's binary_logloss: 0.276295\ttraining's auc: 0.912578\tvalid_1's binary_logloss: 0.2898\tvalid_1's auc: 0.899241\n",
      "[850]\ttraining's binary_logloss: 0.274372\ttraining's auc: 0.913998\tvalid_1's binary_logloss: 0.288658\tvalid_1's auc: 0.900075\n",
      "[900]\ttraining's binary_logloss: 0.272619\ttraining's auc: 0.915333\tvalid_1's binary_logloss: 0.287781\tvalid_1's auc: 0.900718\n",
      "[950]\ttraining's binary_logloss: 0.27091\ttraining's auc: 0.916602\tvalid_1's binary_logloss: 0.286897\tvalid_1's auc: 0.90135\n",
      "[1000]\ttraining's binary_logloss: 0.269189\ttraining's auc: 0.917896\tvalid_1's binary_logloss: 0.286034\tvalid_1's auc: 0.90197\n",
      "[1050]\ttraining's binary_logloss: 0.267457\ttraining's auc: 0.919096\tvalid_1's binary_logloss: 0.285139\tvalid_1's auc: 0.90258\n",
      "[1100]\ttraining's binary_logloss: 0.265822\ttraining's auc: 0.920248\tvalid_1's binary_logloss: 0.284348\tvalid_1's auc: 0.90311\n",
      "[1150]\ttraining's binary_logloss: 0.264359\ttraining's auc: 0.921289\tvalid_1's binary_logloss: 0.283707\tvalid_1's auc: 0.903541\n",
      "[1200]\ttraining's binary_logloss: 0.262972\ttraining's auc: 0.922284\tvalid_1's binary_logloss: 0.283127\tvalid_1's auc: 0.903945\n",
      "[1250]\ttraining's binary_logloss: 0.261614\ttraining's auc: 0.923213\tvalid_1's binary_logloss: 0.282533\tvalid_1's auc: 0.904332\n",
      "[1300]\ttraining's binary_logloss: 0.260309\ttraining's auc: 0.924102\tvalid_1's binary_logloss: 0.282018\tvalid_1's auc: 0.90466\n",
      "[1350]\ttraining's binary_logloss: 0.259132\ttraining's auc: 0.924894\tvalid_1's binary_logloss: 0.281637\tvalid_1's auc: 0.904909\n",
      "[1400]\ttraining's binary_logloss: 0.257885\ttraining's auc: 0.92573\tvalid_1's binary_logloss: 0.281077\tvalid_1's auc: 0.905279\n",
      "[1450]\ttraining's binary_logloss: 0.256738\ttraining's auc: 0.926514\tvalid_1's binary_logloss: 0.280695\tvalid_1's auc: 0.905525\n",
      "[1500]\ttraining's binary_logloss: 0.255631\ttraining's auc: 0.927261\tvalid_1's binary_logloss: 0.280284\tvalid_1's auc: 0.90581\n",
      "[1550]\ttraining's binary_logloss: 0.254493\ttraining's auc: 0.92804\tvalid_1's binary_logloss: 0.279961\tvalid_1's auc: 0.906005\n",
      "[1600]\ttraining's binary_logloss: 0.253336\ttraining's auc: 0.928786\tvalid_1's binary_logloss: 0.279511\tvalid_1's auc: 0.906298\n",
      "[1650]\ttraining's binary_logloss: 0.25215\ttraining's auc: 0.929581\tvalid_1's binary_logloss: 0.279078\tvalid_1's auc: 0.906584\n",
      "[1700]\ttraining's binary_logloss: 0.251123\ttraining's auc: 0.930286\tvalid_1's binary_logloss: 0.278807\tvalid_1's auc: 0.906752\n",
      "[1750]\ttraining's binary_logloss: 0.250098\ttraining's auc: 0.930968\tvalid_1's binary_logloss: 0.278583\tvalid_1's auc: 0.906876\n",
      "[1800]\ttraining's binary_logloss: 0.249083\ttraining's auc: 0.931636\tvalid_1's binary_logloss: 0.278334\tvalid_1's auc: 0.907033\n",
      "[1850]\ttraining's binary_logloss: 0.248186\ttraining's auc: 0.932278\tvalid_1's binary_logloss: 0.278257\tvalid_1's auc: 0.907069\n",
      "[1900]\ttraining's binary_logloss: 0.247285\ttraining's auc: 0.932877\tvalid_1's binary_logloss: 0.278072\tvalid_1's auc: 0.907187\n",
      "[1950]\ttraining's binary_logloss: 0.246323\ttraining's auc: 0.933518\tvalid_1's binary_logloss: 0.277926\tvalid_1's auc: 0.907267\n",
      "[2000]\ttraining's binary_logloss: 0.245416\ttraining's auc: 0.934118\tvalid_1's binary_logloss: 0.277782\tvalid_1's auc: 0.907355\n",
      "Did not meet early stopping. Best iteration is:\n",
      "[2000]\ttraining's binary_logloss: 0.245416\ttraining's auc: 0.934118\tvalid_1's binary_logloss: 0.277782\tvalid_1's auc: 0.907355\n"
     ]
    }
   ],
   "source": [
    "# 交叉验证参数\n",
    "params = {\"num_leaves\": 63, #结果对最终效果影响较大，越大值越好，太大会出现过拟合\n",
    "          \"objective\": 'binary', #定义的目标函数\n",
    "          \"max_depth\": 8,\n",
    "          \"learning_rate\": 0.1,\n",
    "          \"min_sum_hessian_in_leaf\": 6,\n",
    "          \"boosting\": \"gbdt\",\n",
    "          \"feature_fraction\": 1,  #提取的特征比率\n",
    "          \"bagging_freq\": 1,\n",
    "          \"bagging_fraction\": 1,\n",
    "          \"bagging_seed\": 11,\n",
    "        #   \"lambda_l1\": 0.1,             #l1正则\n",
    "        #   \"lambda_l2\": 0.001,     #l2正则\n",
    "          \"verbosity\": -1,\n",
    "          \"nthread\": multiprocessing.cpu_count(),                #线程数量，-1表示全部线程，线程越多，运行的速度越快\n",
    "          \"metric\": {'binary_logloss', 'auc'},  ##评价函数选择\n",
    "          \"random_state\": 2077, #随机数种子，可以防止每次运行的结果不一致\n",
    "        #   \"device\": 'gpu' ##如果安装的事gpu版本的lightgbm,可以加快运算\n",
    "          }\n",
    "\n",
    "n_fold = 5\n",
    "oof_pre =  np.zeros(len(train_df))\n",
    "y_pre = np.zeros(len(test_df))\n",
    "\n",
    "kf = KFold(n_splits=n_fold)\n",
    "callbacks = [\n",
    "    lgb.early_stopping(50),  # 设置早停回调，当验证集的性能在50轮内没有提升时停止训练\n",
    "    lgb.log_evaluation(50)  # 设置日志回调，输出训练过程中的评估信息\n",
    "]\n",
    "\n",
    "for fold_, (trn_idx, val_idx) in enumerate(kf.split(train_df)):\n",
    "    trn_data = lgb.Dataset(train_df[feature].iloc[trn_idx], label=train_df['label'].iloc[trn_idx])\n",
    "    val_data = lgb.Dataset(train_df[feature].iloc[val_idx], label=train_df['label'].iloc[val_idx])\n",
    "\n",
    "\n",
    "    clf = lgb.train(params,\n",
    "                    trn_data,\n",
    "                    2000,  # 迭代次数\n",
    "                    valid_sets=[trn_data, val_data],\n",
    "                    callbacks=callbacks\n",
    "                    )\n",
    "    # out of fold\n",
    "    oof_pre[val_idx] = clf.predict(train_df[feature].iloc[val_idx], num_iteration=clf.best_iteration)\n",
    "\n",
    "    y_pre += clf.predict(test_df[feature], num_iteration=clf.best_iteration) / n_fold"
   ]
  },
  {
   "cell_type": "code",
   "execution_count": 34,
   "id": "01e478d1",
   "metadata": {},
   "outputs": [
    {
     "name": "stdout",
     "output_type": "stream",
     "text": [
      "Local AUC :0.9080215812904234\n"
     ]
    }
   ],
   "source": [
    "local_auc = roc_auc_score(train_df['label'], oof_pre)\n",
    "print(f'Local AUC :{local_auc}')"
   ]
  },
  {
   "cell_type": "code",
   "execution_count": 35,
   "id": "06574a2b",
   "metadata": {},
   "outputs": [],
   "source": [
    "# save\n",
    "res_df = pd.DataFrame()\n",
    "res_df['ID'] = test_df['ID']\n",
    "res_df['label'] = y_pre\n",
    "res_df.to_csv('../quick_baseline/lgb-baseline.csv',index=False)"
   ]
  }
 ],
 "metadata": {
  "kernelspec": {
   "display_name": "Python 3 (ipykernel)",
   "language": "python",
   "name": "python3"
  },
  "language_info": {
   "codemirror_mode": {
    "name": "ipython",
    "version": 3
   },
   "file_extension": ".py",
   "mimetype": "text/x-python",
   "name": "python",
   "nbconvert_exporter": "python",
   "pygments_lexer": "ipython3",
   "version": "3.11.5"
  }
 },
 "nbformat": 4,
 "nbformat_minor": 5
}
